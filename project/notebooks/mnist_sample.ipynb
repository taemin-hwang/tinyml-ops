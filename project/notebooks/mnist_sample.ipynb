{
 "cells": [
  {
   "cell_type": "code",
   "execution_count": 1,
   "id": "9187d88e",
   "metadata": {},
   "outputs": [],
   "source": [
    "import mlflow.tensorflow\n",
    "import tensorflow as tf"
   ]
  },
  {
   "cell_type": "markdown",
   "id": "5d1b3e0c",
   "metadata": {},
   "source": [
    "Enable Mlflow Logging"
   ]
  },
  {
   "cell_type": "code",
   "execution_count": 2,
   "id": "a9cca891",
   "metadata": {},
   "outputs": [
    {
     "name": "stderr",
     "output_type": "stream",
     "text": [
      "2022/02/04 05:17:40 WARNING mlflow.utils.autologging_utils: You are using an unsupported version of tensorflow. If you encounter errors during autologging, try upgrading / downgrading tensorflow to a supported version, or try upgrading MLflow.\n"
     ]
    }
   ],
   "source": [
    "mlflow.tensorflow.autolog()"
   ]
  },
  {
   "cell_type": "markdown",
   "id": "7297bd18",
   "metadata": {},
   "source": [
    "Import MNIST Dataset"
   ]
  },
  {
   "cell_type": "code",
   "execution_count": 3,
   "id": "01ec1f88",
   "metadata": {},
   "outputs": [
    {
     "name": "stdout",
     "output_type": "stream",
     "text": [
      "Downloading data from https://storage.googleapis.com/tensorflow/tf-keras-datasets/mnist.npz\n",
      "11493376/11490434 [==============================] - 1s 0us/step\n",
      "11501568/11490434 [==============================] - 1s 0us/step\n"
     ]
    }
   ],
   "source": [
    "mnist = tf.keras.datasets.mnist\n",
    "(x_train, y_train), (x_test, y_test) = mnist.load_data()"
   ]
  },
  {
   "cell_type": "markdown",
   "id": "79af2a35",
   "metadata": {},
   "source": [
    "Dataset Pre-Process"
   ]
  },
  {
   "cell_type": "code",
   "execution_count": 4,
   "id": "75130677",
   "metadata": {},
   "outputs": [],
   "source": [
    "x_train, x_test = x_train/255.0, x_test/255.0"
   ]
  },
  {
   "cell_type": "markdown",
   "id": "62ee09cb",
   "metadata": {},
   "source": [
    "Design Model"
   ]
  },
  {
   "cell_type": "code",
   "execution_count": 11,
   "id": "f934b0a3",
   "metadata": {},
   "outputs": [],
   "source": [
    "model = tf.keras.models.Sequential([\n",
    "    tf.keras.layers.Flatten(input_shape=(28, 28)),\n",
    "    tf.keras.layers.Dense(512, activation=tf.nn.relu),\n",
    "    tf.keras.layers.Dense(10, activation=tf.nn.softmax)\n",
    "])"
   ]
  },
  {
   "cell_type": "markdown",
   "id": "694d9b96",
   "metadata": {},
   "source": [
    "Comile Model"
   ]
  },
  {
   "cell_type": "code",
   "execution_count": 12,
   "id": "faa2c510",
   "metadata": {},
   "outputs": [],
   "source": [
    "model.compile(optimizer='adam',\n",
    "              loss='sparse_categorical_crossentropy',\n",
    "              metrics=['accuracy'])"
   ]
  },
  {
   "cell_type": "markdown",
   "id": "92aca739",
   "metadata": {},
   "source": [
    "Train Model"
   ]
  },
  {
   "cell_type": "code",
   "execution_count": 13,
   "id": "778d44e2",
   "metadata": {},
   "outputs": [
    {
     "name": "stderr",
     "output_type": "stream",
     "text": [
      "2022/02/04 05:30:59 INFO mlflow.utils.autologging_utils: Created MLflow autologging run with ID '3417e1a2569e44e3bfe81188a0edc4b6', which will track hyperparameters, performance metrics, model artifacts, and lineage information for the current tensorflow workflow\n"
     ]
    },
    {
     "name": "stdout",
     "output_type": "stream",
     "text": [
      "Epoch 1/5\n",
      "   2/1875 [..............................] - ETA: 4:58 - loss: 2.3932 - accuracy: 0.0156    WARNING:tensorflow:Callback method `on_train_batch_begin` is slow compared to the batch time (batch time: 0.0011s vs `on_train_batch_begin` time: 0.0254s). Check your callbacks.\n",
      "WARNING:tensorflow:Callback method `on_train_batch_end` is slow compared to the batch time (batch time: 0.0011s vs `on_train_batch_end` time: 0.0071s). Check your callbacks.\n",
      "1875/1875 [==============================] - 2s 781us/step - loss: 0.1851 - accuracy: 0.9429\n",
      "Epoch 2/5\n",
      "1875/1875 [==============================] - 1s 684us/step - loss: 0.0807 - accuracy: 0.9749\n",
      "Epoch 3/5\n",
      "1875/1875 [==============================] - 1s 689us/step - loss: 0.0554 - accuracy: 0.9822\n",
      "Epoch 4/5\n",
      "1875/1875 [==============================] - 1s 677us/step - loss: 0.0422 - accuracy: 0.9866\n",
      "Epoch 5/5\n",
      "1875/1875 [==============================] - 1s 673us/step - loss: 0.0339 - accuracy: 0.9897\n",
      "INFO:tensorflow:Assets written to: /tmp/tmp45le7xve/model/data/model/assets\n"
     ]
    },
    {
     "data": {
      "text/plain": [
       "<keras.callbacks.History at 0x7f8d95b55c50>"
      ]
     },
     "execution_count": 13,
     "metadata": {},
     "output_type": "execute_result"
    }
   ],
   "source": [
    "model.fit(x_train, y_train, epochs=5)"
   ]
  },
  {
   "cell_type": "markdown",
   "id": "83395786",
   "metadata": {},
   "source": [
    "Evaulate Model"
   ]
  },
  {
   "cell_type": "code",
   "execution_count": 14,
   "id": "d36852ba",
   "metadata": {},
   "outputs": [
    {
     "name": "stdout",
     "output_type": "stream",
     "text": [
      "313/313 [==============================] - 0s 621us/step - loss: 0.0967 - accuracy: 0.9744\n",
      "0.974399983882904\n"
     ]
    }
   ],
   "source": [
    "test_loss, test_acc = model.evaluate(x_test, y_test)\n",
    "print(test_acc)"
   ]
  },
  {
   "cell_type": "markdown",
   "id": "b95f72a9",
   "metadata": {},
   "source": [
    "Save the entire model to a HDF5 file"
   ]
  },
  {
   "cell_type": "code",
   "execution_count": 15,
   "id": "082c6a25",
   "metadata": {},
   "outputs": [],
   "source": [
    "model.save('../models/mnist_dnn_28x28.h5')"
   ]
  },
  {
   "cell_type": "code",
   "execution_count": null,
   "id": "89e53918",
   "metadata": {},
   "outputs": [],
   "source": []
  }
 ],
 "metadata": {
  "kernelspec": {
   "display_name": "Python 3",
   "language": "python",
   "name": "python3"
  },
  "language_info": {
   "codemirror_mode": {
    "name": "ipython",
    "version": 3
   },
   "file_extension": ".py",
   "mimetype": "text/x-python",
   "name": "python",
   "nbconvert_exporter": "python",
   "pygments_lexer": "ipython3",
   "version": "3.6.9"
  }
 },
 "nbformat": 4,
 "nbformat_minor": 5
}
